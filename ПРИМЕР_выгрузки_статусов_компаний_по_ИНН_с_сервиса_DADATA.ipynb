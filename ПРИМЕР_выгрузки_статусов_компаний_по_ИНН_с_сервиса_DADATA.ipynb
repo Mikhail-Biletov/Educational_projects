{
 "cells": [
  {
   "cell_type": "code",
   "execution_count": 2,
   "id": "756c26e6",
   "metadata": {},
   "outputs": [],
   "source": [
    "import pandas as pd\n",
    "import re\n",
    "from dadata import Dadata"
   ]
  },
  {
   "cell_type": "code",
   "execution_count": 3,
   "id": "1ebd379f",
   "metadata": {},
   "outputs": [],
   "source": [
    "token = \"токен\"\n",
    "secret = \"ключ\""
   ]
  },
  {
   "cell_type": "code",
   "execution_count": null,
   "id": "5fd058ab",
   "metadata": {},
   "outputs": [],
   "source": [
    "dadata = Dadata(token)"
   ]
  },
  {
   "cell_type": "code",
   "execution_count": null,
   "id": "828cab26",
   "metadata": {},
   "outputs": [],
   "source": [
    "df_comp = pd.read_excel(r'E:\\Работа\\Выгрузки\\бесплатники_с_сайтом.xlsx')"
   ]
  },
  {
   "cell_type": "code",
   "execution_count": null,
   "id": "079e4bc0",
   "metadata": {},
   "outputs": [],
   "source": [
    "comp_lst = df_comp['company_id'].tolist()\n",
    "inn_lst = df_comp['inn'].unique().tolist()"
   ]
  },
  {
   "cell_type": "code",
   "execution_count": null,
   "id": "e01a1639",
   "metadata": {},
   "outputs": [],
   "source": [
    "inn_lst = [x for x in inn_lst if str(x) != 'nan']"
   ]
  },
  {
   "cell_type": "code",
   "execution_count": null,
   "id": "fedac0d5",
   "metadata": {},
   "outputs": [],
   "source": [
    "int_a=[]\n",
    "for intt in inn_lst:\n",
    "    int_a.append(int(intt))"
   ]
  },
  {
   "cell_type": "code",
   "execution_count": null,
   "id": "1cac9e04",
   "metadata": {},
   "outputs": [],
   "source": [
    "inns=[]\n",
    "stat=[]\n",
    "for innn in int_a:    \n",
    "    \n",
    "    try:\n",
    "        stat.append(list(dadata.find_by_id(name=\"party\", query=innn)[0].values())[2]['state']['status'])\n",
    "        inns.append(innn)\n",
    "    except:\n",
    "        pass\n",
    "df=pd.DataFrame(zip(inns,stat), columns =  ['inn','status'])"
   ]
  },
  {
   "cell_type": "code",
   "execution_count": null,
   "id": "bafd94ec",
   "metadata": {},
   "outputs": [],
   "source": []
  }
 ],
 "metadata": {
  "kernelspec": {
   "display_name": "Python 3 (ipykernel)",
   "language": "python",
   "name": "python3"
  },
  "language_info": {
   "codemirror_mode": {
    "name": "ipython",
    "version": 3
   },
   "file_extension": ".py",
   "mimetype": "text/x-python",
   "name": "python",
   "nbconvert_exporter": "python",
   "pygments_lexer": "ipython3",
   "version": "3.9.12"
  }
 },
 "nbformat": 4,
 "nbformat_minor": 5
}
