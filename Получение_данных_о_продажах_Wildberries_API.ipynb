{
 "cells": [
  {
   "cell_type": "code",
   "execution_count": 1,
   "id": "91c2aef6",
   "metadata": {},
   "outputs": [],
   "source": [
    "import requests\n",
    "from datetime import datetime"
   ]
  },
  {
   "cell_type": "code",
   "execution_count": 2,
   "id": "fd412f4d",
   "metadata": {},
   "outputs": [],
   "source": [
    "token = \"***\""
   ]
  },
  {
   "cell_type": "code",
   "execution_count": 3,
   "id": "8a01ef89",
   "metadata": {},
   "outputs": [],
   "source": [
    "headers = {'Authorization': token}"
   ]
  },
  {
   "cell_type": "code",
   "execution_count": 4,
   "id": "f65e7b18",
   "metadata": {},
   "outputs": [],
   "source": [
    "params = {'dateFrom': '2024-02-01'}"
   ]
  },
  {
   "cell_type": "code",
   "execution_count": 5,
   "id": "b616121f",
   "metadata": {},
   "outputs": [],
   "source": [
    "url = 'https://statistics-api.wildberries.ru/api/v1/supplier/incomes'"
   ]
  },
  {
   "cell_type": "code",
   "execution_count": 7,
   "id": "e7a6908b",
   "metadata": {},
   "outputs": [],
   "source": [
    "response = requests.get(url, headers=headers, params=params)"
   ]
  },
  {
   "cell_type": "code",
   "execution_count": null,
   "id": "160535a3",
   "metadata": {},
   "outputs": [],
   "source": [
    "print(response.status_code)"
   ]
  },
  {
   "cell_type": "code",
   "execution_count": null,
   "id": "f54241fe",
   "metadata": {},
   "outputs": [],
   "source": [
    "df = pd.DataFrame(response.json())"
   ]
  }
 ],
 "metadata": {
  "kernelspec": {
   "display_name": "Python 3 (ipykernel)",
   "language": "python",
   "name": "python3"
  },
  "language_info": {
   "codemirror_mode": {
    "name": "ipython",
    "version": 3
   },
   "file_extension": ".py",
   "mimetype": "text/x-python",
   "name": "python",
   "nbconvert_exporter": "python",
   "pygments_lexer": "ipython3",
   "version": "3.9.12"
  }
 },
 "nbformat": 4,
 "nbformat_minor": 5
}
