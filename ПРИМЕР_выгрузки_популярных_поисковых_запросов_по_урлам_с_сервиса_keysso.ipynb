{
 "cells": [
  {
   "cell_type": "code",
   "execution_count": 1,
   "id": "1a5b3878",
   "metadata": {},
   "outputs": [],
   "source": [
    "import pandas as pd\n",
    "from urllib import parse\n",
    "import re\n",
    "import requests\n",
    "import json"
   ]
  },
  {
   "cell_type": "code",
   "execution_count": null,
   "id": "58c962c2",
   "metadata": {},
   "outputs": [],
   "source": [
    "urls = pd.read_excel(r'E:\\Работа\\Выгрузки\\tgt_urls.xlsx')"
   ]
  },
  {
   "cell_type": "code",
   "execution_count": null,
   "id": "47eaef06",
   "metadata": {},
   "outputs": [],
   "source": [
    "urls_lst = urls['url'].unique().tolist()"
   ]
  },
  {
   "cell_type": "code",
   "execution_count": null,
   "id": "314bffaf",
   "metadata": {},
   "outputs": [],
   "source": [
    "headers = {'X-Keyso-TOKEN': 'токен'}"
   ]
  },
  {
   "cell_type": "code",
   "execution_count": null,
   "id": "68295e67",
   "metadata": {},
   "outputs": [],
   "source": [
    "for url1 in urls_lst:\n",
    "    url = f\"https://api.keys.so/report/simple/organic/keywords/bypage?base=msk&domain=stroyportal.ru&page_url={url1[26:-1]}&sort=wsk|desc&filter=wsk>10&page=1&per_page=300\"\n",
    "    data = json.loads(requests.get(url, headers=headers).content)\n",
    "    try:\n",
    "        for item in data['data']:\n",
    "            queries_phrase.append(item['word'])\n",
    "            urls_total.append(url1)\n",
    "    except:\n",
    "        continue\n",
    "        \n",
    "df_with_quer = pd.DataFrame(list(zip(queries_phrase, urls_total)),\n",
    "              columns=['queries_phrase','urls_total'])"
   ]
  },
  {
   "cell_type": "code",
   "execution_count": null,
   "id": "c2a02268",
   "metadata": {},
   "outputs": [],
   "source": []
  }
 ],
 "metadata": {
  "kernelspec": {
   "display_name": "Python 3 (ipykernel)",
   "language": "python",
   "name": "python3"
  },
  "language_info": {
   "codemirror_mode": {
    "name": "ipython",
    "version": 3
   },
   "file_extension": ".py",
   "mimetype": "text/x-python",
   "name": "python",
   "nbconvert_exporter": "python",
   "pygments_lexer": "ipython3",
   "version": "3.9.12"
  }
 },
 "nbformat": 4,
 "nbformat_minor": 5
}
