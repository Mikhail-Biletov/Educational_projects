{
 "cells": [
  {
   "cell_type": "code",
   "execution_count": 1,
   "id": "5335e727",
   "metadata": {},
   "outputs": [],
   "source": [
    "import requests\n",
    "import pandas as pd\n",
    "from bs4 import BeautifulSoup\n",
    "import numpy as np"
   ]
  },
  {
   "cell_type": "code",
   "execution_count": null,
   "id": "104317a3",
   "metadata": {},
   "outputs": [],
   "source": [
    "top_tags = pd.read_excel('C:/Users/популярные_теги.xlsx', sheet_name = 'Лист1')"
   ]
  },
  {
   "cell_type": "code",
   "execution_count": null,
   "id": "a7b73d1c",
   "metadata": {},
   "outputs": [],
   "source": [
    "top_tags_100 = top_tags.head(100)"
   ]
  },
  {
   "cell_type": "code",
   "execution_count": null,
   "id": "41dd0880",
   "metadata": {},
   "outputs": [],
   "source": [
    "top_tags_100_lst = top_tags_100['tag'].unique().tolist()"
   ]
  },
  {
   "cell_type": "code",
   "execution_count": null,
   "id": "6aed906f",
   "metadata": {},
   "outputs": [],
   "source": [
    "columns = ['tag','url']\n",
    "df_to_work = pd.DataFrame(columns=columns)\n",
    "df_to_adding = pd.DataFrame(columns=columns)"
   ]
  },
  {
   "cell_type": "code",
   "execution_count": null,
   "id": "c7441f39",
   "metadata": {},
   "outputs": [],
   "source": [
    "for tag in top_tags_100_lst:    \n",
    "    req_google = requests.get(\"http://xmlriver.com/search/xml?user=user&key=key&groupby=50&lang=ru&lr=213&domain=ru&query=site:www.stroyportal.ru/catalog/section tag '\"'купить в Москве по цене'\"'\".replace(\"tag\", tag))\n",
    "    soup_google = BeautifulSoup(req_google.text, 'lxml')\n",
    "    urls_google = [] \n",
    "    tag_google = []\n",
    "    for row in soup_google.find_all('url'):\n",
    "        urls_google.append(row.text)\n",
    "        tag_google.append(tag)\n",
    "    req_yndx = requests.get(\"http://xmlriver.com/search_yandex/xml?user=user&key=key&groupby=50&lang=ru&lr=213&domain=ru&query=host:https://www.stroyportal.ru tag '\"'купить в Москве по цене'\"'\".replace(\"tag\", tag))\n",
    "    soup_yndx = BeautifulSoup(req_yndx.text, 'lxml')\n",
    "    urls_yndx = []\n",
    "    tag_yndx = []\n",
    "    for row1 in soup_yndx.find_all('url'):\n",
    "        urls_yndx.append(row1.text)\n",
    "        tag_yndx.append(tag)\n",
    "if len(list(set(urls_google) & set(urls_yndx)))<=10:\n",
    "    union_lst = list(set(urls_google+urls_yndx))\n",
    "    df_to_work = df_to_work.append({'tag':tag, 'url':union_lst}, ignore_index=True)    \n",
    "else:\n",
    "    union_lst = list(set(urls_google+urls_yndx))\n",
    "    df_to_adding = df_to_adding.append({'tag':tag, 'url':union_lst}, ignore_index=True)  "
   ]
  },
  {
   "cell_type": "code",
   "execution_count": null,
   "id": "a008959d",
   "metadata": {},
   "outputs": [],
   "source": []
  }
 ],
 "metadata": {
  "kernelspec": {
   "display_name": "Python 3 (ipykernel)",
   "language": "python",
   "name": "python3"
  },
  "language_info": {
   "codemirror_mode": {
    "name": "ipython",
    "version": 3
   },
   "file_extension": ".py",
   "mimetype": "text/x-python",
   "name": "python",
   "nbconvert_exporter": "python",
   "pygments_lexer": "ipython3",
   "version": "3.9.12"
  }
 },
 "nbformat": 4,
 "nbformat_minor": 5
}
