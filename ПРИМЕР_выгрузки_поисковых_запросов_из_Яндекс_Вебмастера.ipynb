{
 "cells": [
  {
   "cell_type": "code",
   "execution_count": 1,
   "id": "cbdaf39a",
   "metadata": {},
   "outputs": [],
   "source": [
    "from yandex_webmaster import YandexWebmaster\n",
    "from datetime import datetime, timedelta\n",
    "import requests\n",
    "import pandas as pd\n",
    "import warnings\n",
    "from time import strftime, gmtime"
   ]
  },
  {
   "cell_type": "code",
   "execution_count": 3,
   "id": "d2d60386",
   "metadata": {},
   "outputs": [],
   "source": [
    "client = YandexWebmaster('токен')"
   ]
  },
  
  {
   "cell_type": "code",
   "execution_count": 6,
   "id": "f916b318",
   "metadata": {},
   "outputs": [],
   "source": [
    "url1 = 'https://api.webmaster.yandex.net/v4/user/1656162550/hosts'"
   ]
  },
  {
   "cell_type": "code",
   "execution_count": 7,
   "id": "75075b45",
   "metadata": {},
   "outputs": [],
   "source": [
    "req1 = requests.get(url1, headers={'Authorization': \"OAuth токен\"})"
   ]
  },
  {
   "cell_type": "code",
   "execution_count": 8,
   "id": "86a74c0f",
   "metadata": {
    "scrolled": true
   },
   "outputs": [
    {
     "name": "stdout",
     "output_type": "stream",
     "text": [
      "{\"hosts\":[{\"host_id\":\"https:kursk.stroyportal.ru:443\",\"ascii_host_url\":\"https://kursk.stroyportal.ru/\",\"unicode_host_url\":\"https://kursk.stroyportal.ru/\",\"verified\":true,\"main_mirror\":null},{\"host_id\":\"https:www.stroyportal.ru:443\",\"ascii_host_url\":\"https://www.stroyportal.ru/\",\"unicode_host_url\":\"https://www.stroyportal.ru/\",\"verified\":true,\"main_mirror\":null}]}\n"
     ]
    }
   ],
   "source": [
    "print(req1.text)"
   ]
  },
  {
   "cell_type": "code",
   "execution_count": 11,
   "id": "0952fdca",
   "metadata": {},
   "outputs": [],
   "source": [
    "warnings.filterwarnings (\"ignore\")\n",
    "columns = ['url','title','event_date','last_access','event','excluded_url_status','bad_http_status','target_url']\n",
    "df = pd.DataFrame(columns=columns) \n",
    "for offset in range(0,qty,100):   \n",
    "    result2 = client.get_insearch_url_events_samples(host_id='https:www.stroyportal.ru:443',  offset = offset)    \n",
    "    df1 = pd.DataFrame(result2[list(result2.keys())[1]],columns=columns)\n",
    "    df = df.append(df1) \n"
   ]
  },
  {
   "cell_type": "code",
   "execution_count": 12,
   "id": "b24a4c3a",
   "metadata": {},
   "outputs": [],
   "source": [
    "df = df.query('excluded_url_status==\"LOW_QUALITY\"')"
   ]
  },
  {
   "cell_type": "code",
   "execution_count": 13,
   "id": "9154a9a1",
   "metadata": {},
   "outputs": [],
   "source": [
    "nm =strftime(\"%Y-%m-%d\", gmtime())"
   ]
  },
  {
   "cell_type": "code",
   "execution_count": 14,
   "id": "23b6e40a",
   "metadata": {},
   "outputs": [],
   "source": [
    "path = 'E:/Работа/Выгрузки'"
   ]
  },
  {
   "cell_type": "code",
   "execution_count": 15,
   "id": "f298f7eb",
   "metadata": {
    "scrolled": true
   },
   "outputs": [],
   "source": [
    "writer = pd.ExcelWriter(path+nm+'.xlsx')\n",
    "df.to_excel(writer)\n",
    "writer.save()"
   ]
  },
  {
   "cell_type": "code",
   "execution_count": null,
   "id": "d070bb58",
   "metadata": {},
   "outputs": [],
   "source": []
  }
 ],
 "metadata": {
  "kernelspec": {
   "display_name": "Python 3 (ipykernel)",
   "language": "python",
   "name": "python3"
  },
  "language_info": {
   "codemirror_mode": {
    "name": "ipython",
    "version": 3
   },
   "file_extension": ".py",
   "mimetype": "text/x-python",
   "name": "python",
   "nbconvert_exporter": "python",
   "pygments_lexer": "ipython3",
   "version": "3.9.12"
  }
 },
 "nbformat": 4,
 "nbformat_minor": 5
}
