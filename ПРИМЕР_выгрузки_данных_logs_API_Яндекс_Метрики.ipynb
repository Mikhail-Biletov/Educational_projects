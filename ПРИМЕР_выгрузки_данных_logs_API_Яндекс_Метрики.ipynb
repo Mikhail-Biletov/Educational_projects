{
 "cells": [
  {
   "cell_type": "code",
   "execution_count": null,
   "id": "feebcb82",
   "metadata": {},
   "outputs": [],
   "source": [
    "import pandas as pd\n",
    "from tapi_yandex_metrika import YandexMetrikaLogsapi\n",
    "import re\n",
    "import time"
   ]
  },
  {
   "cell_type": "code",
   "execution_count": null,
   "id": "819a619a",
   "metadata": {},
   "outputs": [],
   "source": [
    "ACCESS_TOKEN = \"токен_метрики\" #здесь должен быть токен Метрики \n",
    "COUNTER_ID = \"номер_счетчика\" #здесь должен быть номер счетчика Метрики"
   ]
  },
  {
   "cell_type": "code",
   "execution_count": null,
   "id": "20cc4560",
   "metadata": {},
   "outputs": [],
   "source": [
    "start_date = '2023-08-20'\n",
    "end_date = '2023-09-20'\n",
    "daterange = pd.date_range(start_date, end_date)\n",
    "columns = ['ym:pv:watchID','ym:pv:deviceCategory','ym:pv:title','ym:pv:clientID','ym:pv:ipAddress','ym:pv:goalsID','ym:pv:dateTime','ym:pv:URL','ym:pv:referer','ym:pv:regionCity','ym:pv:regionCountry','ym:pv:isPageView','ym:pv:httpError','ym:pv:counterUserIDHash']\n",
    "df = pd.DataFrame(columns=columns) "
   ]
  },
  {
   "cell_type": "code",
   "execution_count": null,
   "id": "fedcb8f5",
   "metadata": {},
   "outputs": [],
   "source": [
    "for single_date in daterange:\n",
    "    client = YandexMetrikaLogsapi(\n",
    "        access_token=ACCESS_TOKEN,\n",
    "        default_url_params={'counterId': COUNTER_ID},\n",
    "        wait_report=True,\n",
    "    )\n",
    "    params={\n",
    "        \"fields\": \"ym:pv:watchID,ym:pv:deviceCategory,ym:pv:title,ym:pv:clientID,ym:pv:ipAddress,ym:pv:goalsID,ym:pv:dateTime,ym:pv:URL,ym:pv:referer,ym:pv:regionCity,ym:pv:regionCountry,ym:pv:isPageView,ym:pv:httpError,ym:pv:counterUserIDHash\",\n",
    "        \"source\": \"hits \",\n",
    "        \"date1\": single_date.strftime('%Y-%m-%d'),\n",
    "        \"date2\": single_date.strftime('%Y-%m-%d')\n",
    "    }\n",
    "    info = client.create().post(params=params)\n",
    "    request_id = info[\"log_request\"][\"request_id\"]\n",
    "\n",
    "    report = client.download(requestId=request_id).get()\n",
    "    data = report.data\n",
    "    report().to_values()\n",
    "    report().to_lines()\n",
    "    res = report().to_dicts()    \n",
    "    df1 = pd.DataFrame(res, columns=columns)\n",
    "    \n",
    "    df = df.append(df1)\n",
    "    time.sleep(200)"
   ]
  },
  {
   "cell_type": "code",
   "execution_count": null,
   "id": "310c8e15",
   "metadata": {},
   "outputs": [],
   "source": [
    "df.sample(5)"
   ]
  }
 ],
 "metadata": {
  "kernelspec": {
   "display_name": "Python 3 (ipykernel)",
   "language": "python",
   "name": "python3"
  },
  "language_info": {
   "codemirror_mode": {
    "name": "ipython",
    "version": 3
   },
   "file_extension": ".py",
   "mimetype": "text/x-python",
   "name": "python",
   "nbconvert_exporter": "python",
   "pygments_lexer": "ipython3",
   "version": "3.9.12"
  }
 },
 "nbformat": 4,
 "nbformat_minor": 5
}
